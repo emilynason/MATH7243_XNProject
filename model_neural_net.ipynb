{
 "cells": [
  {
   "cell_type": "code",
   "execution_count": 1,
   "id": "019141aa",
   "metadata": {},
   "outputs": [],
   "source": [
    "#Importing Modules used for the Data Cleaning & Model Building\n",
    "import pandas as pd\n",
    "import numpy as np\n",
    "import os\n",
    "import random\n",
    "from matplotlib import pyplot as plt\n",
    "import matplotlib\n",
    "%matplotlib inline\n",
    "from sklearn.model_selection import train_test_split"
   ]
  },
  {
   "cell_type": "code",
   "execution_count": 2,
   "id": "f9c542f2",
   "metadata": {},
   "outputs": [],
   "source": [
    "import tensorflow as tf\n",
    "import keras"
   ]
  },
  {
   "cell_type": "code",
   "execution_count": 3,
   "id": "98ff26c6",
   "metadata": {},
   "outputs": [
    {
     "name": "stderr",
     "output_type": "stream",
     "text": [
      "/var/folders/6g/lht9tm8x1bz3sdrs0xk_d2m00000gn/T/ipykernel_20776/1349658628.py:18: FutureWarning: The frame.append method is deprecated and will be removed from pandas in a future version. Use pandas.concat instead.\n",
      "  df_raw = df_raw.append(df_temp)\n",
      "/var/folders/6g/lht9tm8x1bz3sdrs0xk_d2m00000gn/T/ipykernel_20776/1349658628.py:18: FutureWarning: The frame.append method is deprecated and will be removed from pandas in a future version. Use pandas.concat instead.\n",
      "  df_raw = df_raw.append(df_temp)\n",
      "/var/folders/6g/lht9tm8x1bz3sdrs0xk_d2m00000gn/T/ipykernel_20776/1349658628.py:18: FutureWarning: The frame.append method is deprecated and will be removed from pandas in a future version. Use pandas.concat instead.\n",
      "  df_raw = df_raw.append(df_temp)\n",
      "/var/folders/6g/lht9tm8x1bz3sdrs0xk_d2m00000gn/T/ipykernel_20776/1349658628.py:18: FutureWarning: The frame.append method is deprecated and will be removed from pandas in a future version. Use pandas.concat instead.\n",
      "  df_raw = df_raw.append(df_temp)\n",
      "/var/folders/6g/lht9tm8x1bz3sdrs0xk_d2m00000gn/T/ipykernel_20776/1349658628.py:18: FutureWarning: The frame.append method is deprecated and will be removed from pandas in a future version. Use pandas.concat instead.\n",
      "  df_raw = df_raw.append(df_temp)\n",
      "/var/folders/6g/lht9tm8x1bz3sdrs0xk_d2m00000gn/T/ipykernel_20776/1349658628.py:18: FutureWarning: The frame.append method is deprecated and will be removed from pandas in a future version. Use pandas.concat instead.\n",
      "  df_raw = df_raw.append(df_temp)\n"
     ]
    }
   ],
   "source": [
    "#Initialize the path for the files to be pulled from and also the desired columns\n",
    "path = \"Hemorrhage Segmentation Project\"\n",
    "file_list = os.listdir(path)\n",
    "file_list.remove('Segmentation Glossary (1).rtf')\n",
    "file_list.remove('flagged.txt')\n",
    "file_list.remove('hemorrhage-labels.csv')\n",
    "file_list.remove('.ipynb_checkpoints')\n",
    "column_names = [\"Origin\",\"Labeling State\",\"All Labels\",\"Correct Label\",\"Type\"]\n",
    "df_raw = pd.DataFrame(columns=column_names)\n",
    "\n",
    "#This Loop opens each file in the directory and creates a combined dataframe with the file names and type for each segmented file\n",
    "for file in file_list:\n",
    "    cols = column_names[:4]\n",
    "    df_temp = pd.read_csv(path + \"/\" + file)\n",
    "    df_temp = df_temp[cols]\n",
    "    df_temp[\"Type\"] = file.strip().split()[0].replace(\"Results_\",\"\")\n",
    "    df_temp\n",
    "    df_raw = df_raw.append(df_temp)\n",
    "\n",
    "#Remove abnormalilites from the Correct Label section\n",
    "df = df_raw[df_raw[\"Labeling State\"] == \"Labeled\"].dropna().reset_index().drop(['index'],axis = 1)\n",
    "df['Valid'] = df['Correct Label'].apply(lambda x: 1 if \"x\" in x else 0)\n",
    "df = df[df.Valid == 1].reset_index().drop([\"index\",\"Valid\"],axis = 1)"
   ]
  },
  {
   "cell_type": "code",
   "execution_count": 4,
   "id": "c65e2f32",
   "metadata": {},
   "outputs": [
    {
     "data": {
      "text/plain": [
       "array(['Subdural', 'Intraparenchymal', 'Multiple', 'Epidural',\n",
       "       'Subarachnoid'], dtype=object)"
      ]
     },
     "execution_count": 4,
     "metadata": {},
     "output_type": "execute_result"
    }
   ],
   "source": [
    "df['Type'].unique()"
   ]
  },
  {
   "cell_type": "code",
   "execution_count": 5,
   "id": "376bcd1c",
   "metadata": {},
   "outputs": [
    {
     "name": "stderr",
     "output_type": "stream",
     "text": [
      "/var/folders/6g/lht9tm8x1bz3sdrs0xk_d2m00000gn/T/ipykernel_20776/1372997237.py:17: FutureWarning: The frame.append method is deprecated and will be removed from pandas in a future version. Use pandas.concat instead.\n",
      "  df = df.append(df_normal).reset_index().drop([\"index\"],axis = 1)\n"
     ]
    },
    {
     "data": {
      "text/html": [
       "<div>\n",
       "<style scoped>\n",
       "    .dataframe tbody tr th:only-of-type {\n",
       "        vertical-align: middle;\n",
       "    }\n",
       "\n",
       "    .dataframe tbody tr th {\n",
       "        vertical-align: top;\n",
       "    }\n",
       "\n",
       "    .dataframe thead th {\n",
       "        text-align: right;\n",
       "    }\n",
       "</style>\n",
       "<table border=\"1\" class=\"dataframe\">\n",
       "  <thead>\n",
       "    <tr style=\"text-align: right;\">\n",
       "      <th></th>\n",
       "      <th>Origin</th>\n",
       "      <th>Labeling State</th>\n",
       "      <th>All Labels</th>\n",
       "      <th>Correct Label</th>\n",
       "      <th>Type</th>\n",
       "    </tr>\n",
       "  </thead>\n",
       "  <tbody>\n",
       "    <tr>\n",
       "      <th>0</th>\n",
       "      <td>ID_0061cb462.jpg</td>\n",
       "      <td>Labeled</td>\n",
       "      <td>['[{\"x\": 0.4823523, \"y\": 0.59177}, {\"x\": 0.473...</td>\n",
       "      <td>[[{'x': 0.40625, 'y': 0.330078125}, {'x': 0.40...</td>\n",
       "      <td>1</td>\n",
       "    </tr>\n",
       "    <tr>\n",
       "      <th>1</th>\n",
       "      <td>ID_0061cb462.jpg</td>\n",
       "      <td>Labeled</td>\n",
       "      <td>['[{\"x\": 0.4823523, \"y\": 0.59177}, {\"x\": 0.473...</td>\n",
       "      <td>[[{'x': 0.40625, 'y': 0.330078125}, {'x': 0.40...</td>\n",
       "      <td>1</td>\n",
       "    </tr>\n",
       "    <tr>\n",
       "      <th>2</th>\n",
       "      <td>ID_00eb6f7cc.jpg</td>\n",
       "      <td>Labeled</td>\n",
       "      <td>['[{\"x\": 0.48163298, \"y\": 0.71568763}, {\"x\": 0...</td>\n",
       "      <td>[[{'x': 0.447265625, 'y': 0.73828125}, {'x': 0...</td>\n",
       "      <td>1</td>\n",
       "    </tr>\n",
       "    <tr>\n",
       "      <th>3</th>\n",
       "      <td>ID_0162f0acb.jpg</td>\n",
       "      <td>Labeled</td>\n",
       "      <td>['[{\"x\": 0.44486272, \"y\": 0.4724329}, {\"x\": 0....</td>\n",
       "      <td>[[{'x': 0.46875, 'y': 0.79296875}, {'x': 0.468...</td>\n",
       "      <td>1</td>\n",
       "    </tr>\n",
       "    <tr>\n",
       "      <th>4</th>\n",
       "      <td>ID_029b94665.jpg</td>\n",
       "      <td>Labeled</td>\n",
       "      <td>['[{\"x\": 0.7883911, \"y\": 0.4989282}, {\"x\": 0.7...</td>\n",
       "      <td>[[{'x': 0.55859375, 'y': 0.32421875}, {'x': 0....</td>\n",
       "      <td>1</td>\n",
       "    </tr>\n",
       "    <tr>\n",
       "      <th>...</th>\n",
       "      <td>...</td>\n",
       "      <td>...</td>\n",
       "      <td>...</td>\n",
       "      <td>...</td>\n",
       "      <td>...</td>\n",
       "    </tr>\n",
       "    <tr>\n",
       "      <th>7265</th>\n",
       "      <td>ID_00f75c05a.jpg</td>\n",
       "      <td>None</td>\n",
       "      <td>None</td>\n",
       "      <td>None</td>\n",
       "      <td>0</td>\n",
       "    </tr>\n",
       "    <tr>\n",
       "      <th>7266</th>\n",
       "      <td>ID_0247a8b08.jpg</td>\n",
       "      <td>None</td>\n",
       "      <td>None</td>\n",
       "      <td>None</td>\n",
       "      <td>0</td>\n",
       "    </tr>\n",
       "    <tr>\n",
       "      <th>7267</th>\n",
       "      <td>ID_03598c68f.jpg</td>\n",
       "      <td>None</td>\n",
       "      <td>None</td>\n",
       "      <td>None</td>\n",
       "      <td>0</td>\n",
       "    </tr>\n",
       "    <tr>\n",
       "      <th>7268</th>\n",
       "      <td>ID_02bd91941.jpg</td>\n",
       "      <td>None</td>\n",
       "      <td>None</td>\n",
       "      <td>None</td>\n",
       "      <td>0</td>\n",
       "    </tr>\n",
       "    <tr>\n",
       "      <th>7269</th>\n",
       "      <td>ID_00ee133c3.jpg</td>\n",
       "      <td>None</td>\n",
       "      <td>None</td>\n",
       "      <td>None</td>\n",
       "      <td>0</td>\n",
       "    </tr>\n",
       "  </tbody>\n",
       "</table>\n",
       "<p>7269 rows × 5 columns</p>\n",
       "</div>"
      ],
      "text/plain": [
       "                Origin Labeling State  \\\n",
       "0     ID_0061cb462.jpg        Labeled   \n",
       "1     ID_0061cb462.jpg        Labeled   \n",
       "2     ID_00eb6f7cc.jpg        Labeled   \n",
       "3     ID_0162f0acb.jpg        Labeled   \n",
       "4     ID_029b94665.jpg        Labeled   \n",
       "...                ...            ...   \n",
       "7265  ID_00f75c05a.jpg           None   \n",
       "7266  ID_0247a8b08.jpg           None   \n",
       "7267  ID_03598c68f.jpg           None   \n",
       "7268  ID_02bd91941.jpg           None   \n",
       "7269  ID_00ee133c3.jpg           None   \n",
       "\n",
       "                                             All Labels  \\\n",
       "0     ['[{\"x\": 0.4823523, \"y\": 0.59177}, {\"x\": 0.473...   \n",
       "1     ['[{\"x\": 0.4823523, \"y\": 0.59177}, {\"x\": 0.473...   \n",
       "2     ['[{\"x\": 0.48163298, \"y\": 0.71568763}, {\"x\": 0...   \n",
       "3     ['[{\"x\": 0.44486272, \"y\": 0.4724329}, {\"x\": 0....   \n",
       "4     ['[{\"x\": 0.7883911, \"y\": 0.4989282}, {\"x\": 0.7...   \n",
       "...                                                 ...   \n",
       "7265                                               None   \n",
       "7266                                               None   \n",
       "7267                                               None   \n",
       "7268                                               None   \n",
       "7269                                               None   \n",
       "\n",
       "                                          Correct Label  Type  \n",
       "0     [[{'x': 0.40625, 'y': 0.330078125}, {'x': 0.40...     1  \n",
       "1     [[{'x': 0.40625, 'y': 0.330078125}, {'x': 0.40...     1  \n",
       "2     [[{'x': 0.447265625, 'y': 0.73828125}, {'x': 0...     1  \n",
       "3     [[{'x': 0.46875, 'y': 0.79296875}, {'x': 0.468...     1  \n",
       "4     [[{'x': 0.55859375, 'y': 0.32421875}, {'x': 0....     1  \n",
       "...                                                 ...   ...  \n",
       "7265                                               None     0  \n",
       "7266                                               None     0  \n",
       "7267                                               None     0  \n",
       "7268                                               None     0  \n",
       "7269                                               None     0  \n",
       "\n",
       "[7269 rows x 5 columns]"
      ]
     },
     "execution_count": 5,
     "metadata": {},
     "output_type": "execute_result"
    }
   ],
   "source": [
    "#Assemble a random sample of normal images to to add to the training list\n",
    "N = 5000\n",
    "path_n = 'normal/max_contrast_window'\n",
    "file_list_n = os.listdir(path_n)\n",
    "\n",
    "random.seed(123) #Keeps random state the same while we are testing \n",
    "normal_files = random.sample(file_list_n,k = N)\n",
    "\n",
    "#Format df same as the other data frame so we can easily append it\n",
    "df_normal = pd.DataFrame(normal_files,columns= ['Origin'])\n",
    "df_normal[\"Labeling State\"] = \"None\"\n",
    "df_normal[\"All Labels\"] = \"None\"\n",
    "df_normal[\"Correct Label\"] = \"None\"\n",
    "df_normal[\"Type\"] = \"Normal\"\n",
    "\n",
    "#Append this Normal File df to the original df\n",
    "df = df.append(df_normal).reset_index().drop([\"index\"],axis = 1)\n",
    "df = df[df['Origin']!='.ipynb_checkpoints']\n",
    "\n",
    "# replacing values\n",
    "df['Type'].replace(['Normal', 'Subdural', 'Intraparenchymal', 'Multiple', 'Epidural', 'Subarachnoid'],\n",
    "                   [0, 1, 2, 3, 4, 5], inplace=True)\n",
    "df"
   ]
  },
  {
   "cell_type": "code",
   "execution_count": 6,
   "id": "a593c553",
   "metadata": {},
   "outputs": [],
   "source": [
    "#list of indices with wrong img shapes - remove from original df and from img df\n",
    "wrong_list = []\n",
    "\n",
    "#empty array for image data\n",
    "data = np.zeros([7269, 512, 512])\n",
    "\n",
    "for i, file_name in enumerate(df.Origin):\n",
    "    img = np.mean(matplotlib.image.imread('relevant_images/' + file_name),axis=2)#.reshape(-1)\n",
    "    if img.shape[0] == 512:\n",
    "        data[i,:,:] = img\n",
    "    else:\n",
    "        wrong_list.append(i)\n",
    "    \n",
    "data = np.delete(data, wrong_list, 0)\n",
    "df = df.drop(wrong_list, axis=0)"
   ]
  },
  {
   "cell_type": "code",
   "execution_count": 7,
   "id": "06a5da5f",
   "metadata": {},
   "outputs": [],
   "source": [
    "X_train_full, X_test, y_train_full, y_test = train_test_split(data, df[\"Type\"], random_state=42)\n",
    "X_train, X_valid, y_train, y_valid = train_test_split(X_train_full, y_train_full, random_state=42)"
   ]
  },
  {
   "cell_type": "code",
   "execution_count": 8,
   "id": "129ddcab",
   "metadata": {
    "scrolled": true
   },
   "outputs": [
    {
     "name": "stderr",
     "output_type": "stream",
     "text": [
      "2022-11-27 19:33:15.239387: I tensorflow/core/platform/cpu_feature_guard.cc:193] This TensorFlow binary is optimized with oneAPI Deep Neural Network Library (oneDNN) to use the following CPU instructions in performance-critical operations:  SSE4.1 SSE4.2\n",
      "To enable them in other operations, rebuild TensorFlow with the appropriate compiler flags.\n"
     ]
    },
    {
     "name": "stdout",
     "output_type": "stream",
     "text": [
      "Epoch 1/10\n",
      "32/32 [==============================] - 56s 1s/step - loss: nan - accuracy: 0.6517 - val_loss: nan - val_accuracy: 0.7041\n",
      "Epoch 2/10\n",
      "32/32 [==============================] - 51s 2s/step - loss: nan - accuracy: 0.6892 - val_loss: nan - val_accuracy: 0.7041\n",
      "Epoch 3/10\n",
      "32/32 [==============================] - 37s 1s/step - loss: nan - accuracy: 0.6892 - val_loss: nan - val_accuracy: 0.7041\n",
      "Epoch 4/10\n",
      "32/32 [==============================] - 45s 1s/step - loss: nan - accuracy: 0.6892 - val_loss: nan - val_accuracy: 0.7041\n",
      "Epoch 5/10\n",
      "32/32 [==============================] - 30s 959ms/step - loss: nan - accuracy: 0.6892 - val_loss: nan - val_accuracy: 0.7041\n",
      "Epoch 6/10\n",
      "32/32 [==============================] - 38s 1s/step - loss: nan - accuracy: 0.6892 - val_loss: nan - val_accuracy: 0.7041\n",
      "Epoch 7/10\n",
      "32/32 [==============================] - 44s 1s/step - loss: nan - accuracy: 0.6892 - val_loss: nan - val_accuracy: 0.7041\n",
      "Epoch 8/10\n",
      "32/32 [==============================] - 31s 937ms/step - loss: nan - accuracy: 0.6892 - val_loss: nan - val_accuracy: 0.7041\n",
      "Epoch 9/10\n",
      "32/32 [==============================] - 22s 690ms/step - loss: nan - accuracy: 0.6892 - val_loss: nan - val_accuracy: 0.7041\n",
      "Epoch 10/10\n",
      "32/32 [==============================] - 28s 875ms/step - loss: nan - accuracy: 0.6892 - val_loss: nan - val_accuracy: 0.7041\n",
      "57/57 [==============================] - 6s 68ms/step - loss: nan - accuracy: 0.6735\n"
     ]
    },
    {
     "data": {
      "text/plain": [
       "[nan, 0.6734581589698792]"
      ]
     },
     "execution_count": 8,
     "metadata": {},
     "output_type": "execute_result"
    }
   ],
   "source": [
    "model = keras.models.Sequential([\n",
    "    keras.layers.Flatten(input_shape=[512, 512]),\n",
    "    keras.layers.Dense(100, activation=\"relu\"),\n",
    "    keras.layers.Dense(50, activation=\"relu\"),\n",
    "    keras.layers.Dense(25, activation=\"relu\"),\n",
    "    keras.layers.Dense(6, activation='softmax')\n",
    "])\n",
    "model.compile(loss=\"sparse_categorical_crossentropy\",\n",
    "              optimizer=\"sgd\",\n",
    "              metrics=[\"accuracy\"])\n",
    "history = model.fit(X_train, y_train,\n",
    "          batch_size=128, epochs=10,\n",
    "          verbose=1,\n",
    "          validation_data=(X_valid, y_valid))\n",
    "# model.compile(loss=\"mean_squared_error\", optimizer=keras.optimizers.SGD(learning_rate=1e-3))\n",
    "# history = model.fit(X_train, y_train, epochs=5, validation_data=(X_valid, y_valid))\n",
    "# mse_test = model.evaluate(X_test, y_test)\n",
    "model.evaluate(X_test, y_test)"
   ]
  },
  {
   "cell_type": "code",
   "execution_count": null,
   "id": "5ad29e69",
   "metadata": {},
   "outputs": [],
   "source": []
  }
 ],
 "metadata": {
  "kernelspec": {
   "display_name": "Python 3 (ipykernel)",
   "language": "python",
   "name": "python3"
  },
  "language_info": {
   "codemirror_mode": {
    "name": "ipython",
    "version": 3
   },
   "file_extension": ".py",
   "mimetype": "text/x-python",
   "name": "python",
   "nbconvert_exporter": "python",
   "pygments_lexer": "ipython3",
   "version": "3.10.8"
  }
 },
 "nbformat": 4,
 "nbformat_minor": 5
}
